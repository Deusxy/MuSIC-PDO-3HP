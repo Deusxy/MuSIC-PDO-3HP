{
 "cells": [
  {
   "cell_type": "markdown",
   "metadata": {},
   "source": [
    "# Multiscale Analysis of the Sustainable Production of 1,3PDO and 3HP\n",
    "## X3 - Sensitivity Analysis: Purification Efficiency"
   ]
  },
  {
   "cell_type": "code",
   "execution_count": 72,
   "metadata": {
    "collapsed": false
   },
   "outputs": [
    {
     "name": "stdout",
     "output_type": "stream",
     "text": [
      "Populating the interactive namespace from numpy and matplotlib\n"
     ]
    }
   ],
   "source": [
    "%reset -f\n",
    "%pylab inline\n",
    "\n",
    "import cPickle as pickle\n",
    "# from collections import OrderedDict\n",
    "from cbmTES.global_constants import *\n",
    "from framed.hack.ratio_constraint import *\n",
    "import cbmTES.biochemical as biochemical\n",
    "from framed.analysis.simulation import FBA, pFBA\n",
    "\n"
   ]
  },
  {
   "cell_type": "code",
   "execution_count": 73,
   "metadata": {
    "collapsed": false
   },
   "outputs": [
    {
     "name": "stdout",
     "output_type": "stream",
     "text": [
      "('ecoli', 1, 'R_EX_glc_e', 'R_EX_13PDO_e')\n",
      "('ecoli', 1, 'R_EX_glc_e', 'R_EX_3HPP_e')\n",
      "('ecoli', 1, 'R_EX_glyc_e', 'R_EX_13PDO_e')\n",
      "('ecoli', 1, 'R_EX_glyc_e', 'R_EX_3HPP_e')\n",
      "('ecoli', 0, 'R_EX_glc_e', 'R_EX_13PDO_e')\n",
      "('ecoli', 0, 'R_EX_glc_e', 'R_EX_3HPP_e')\n",
      "('scere', 1, 'R_EX_glc_e', 'R_EX_13PDO_e')\n",
      "('scere', 1, 'R_EX_glc_e', 'R_EX_3HPP_e')\n",
      "('scere', 1, 'R_EX_glyc_e', 'R_EX_13PDO_e')\n",
      "('scere', 1, 'R_EX_glyc_e', 'R_EX_3HPP_e')\n",
      "('scere', 0, 'R_EX_glc_e', 'R_EX_13PDO_e')\n",
      "('scere', 0, 'R_EX_glc_e', 'R_EX_3HPP_e')\n"
     ]
    }
   ],
   "source": [
    "\n",
    "performances = pickle.load(open('jar/performances_gram.pickle','rb')) \n",
    "\n",
    "for p in performances:\n",
    "    print p"
   ]
  },
  {
   "cell_type": "code",
   "execution_count": 74,
   "metadata": {
    "collapsed": false
   },
   "outputs": [],
   "source": [
    "# import the economy scale model\n",
    "model = pickle.load(open('models/mini_BChI_model.pickle','rb'))\n",
    "\n"
   ]
  },
  {
   "cell_type": "code",
   "execution_count": null,
   "metadata": {
    "collapsed": true
   },
   "outputs": [],
   "source": []
  },
  {
   "cell_type": "code",
   "execution_count": 75,
   "metadata": {
    "collapsed": false
   },
   "outputs": [],
   "source": [
    "## Setting up scenario 1A, B, C, D\n",
    "\n",
    "### Objective Functions ###\n",
    "OBJs=OrderedDict()\n",
    "MAX = True\n",
    "MIN = False\n",
    "OBJs['min_global_warming'] = ('EX_co2e_mkt', MIN) # minimize total global warming potential\n",
    "\n",
    "### Flux Constraints ###\n",
    "FCs = OrderedDict()\n",
    "FCs['no import'] = {'DM_glyc_mkt':(0,0), 'DM_glc_mkt':(0,0), 'DM_energy_mkt':(0,0)}\n",
    "FCs['product demand: 3hp = 1000']= {'DM_3hp_mkt':(1000,1000), 'DM_1,3pdo_mkt':(0,0)}\n",
    "FCs['product demand: pdo = 1000']= {'DM_3hp_mkt':(0, 0), 'DM_1,3pdo_mkt':(1000,1000)}\n",
    "FCs['product demand: 3hp = 500, pdo=500']= {'DM_3hp_mkt':(500,500), 'DM_1,3pdo_mkt':(500,500)}\n",
    "\n",
    "FCs['positive profits']= {'PROFIT_res':(0,None), 'PROFIT_agr':(0,None), 'PROFIT_erg':(0,None), 'PROFIT_bch':(0,None)}\n",
    "FCs['no biodiesel'] = {'energy_from_biodiesel':(0,0)}\n",
    "FCs['land use < 1'] = {'EX_land_res':(-1,0)}\n",
    "FCs['land use < 5'] = {'EX_land_res':(-5,0)}\n",
    "FCs['co2 < 2000'] = {'EX_co2e_mkt':(0, 2000)}\n",
    "\n",
    "\n",
    "### Ratio Constraints ###\n",
    "\n",
    "# EU Energy Mix\n",
    "def add_RC_EU_energy(model):\n",
    "    add_ratio_constraint(model, 'energy_from_petroleum', 'MX_erg2mkt_energy', 0.25)\n",
    "    add_ratio_constraint(model, 'energy_from_natural_gas', 'MX_erg2mkt_energy', 0.7)\n",
    "    add_ratio_constraint(model, 'energy_from_coal', 'MX_erg2mkt_energy', 0.05)\n",
    "\n",
    "def remove_RC_EU_energy(model):\n",
    "    remove_ratio_constraint(model, 'ratio_energy_from_petroleum_MX_erg2mkt_energy')\n",
    "    remove_ratio_constraint(model, 'ratio_energy_from_natural_gas_MX_erg2mkt_energy')\n",
    "    remove_ratio_constraint(model, 'ratio_energy_from_coal_MX_erg2mkt_energy')\n",
    "\n",
    "Scenarios = OrderedDict()\n",
    "base_scenario = {k:v for d in (FCs['no import'], FCs['positive profits']) for k, v in d.iteritems()}\n",
    "Scenarios['pdo1000, land<1, energy=EU'] = {k:v for d in (base_scenario, FCs['product demand: pdo = 1000'], FCs['land use < 1'], FCs['no biodiesel']) for k, v in d.iteritems()}\n",
    "\n",
    "\n",
    "### Objective Functions ###\n",
    "OBJs=OrderedDict()\n",
    "MAX = True\n",
    "MIN = False\n",
    "OBJs['min_global_warming'] = ('EX_co2e_mkt', MIN) # minimize total global warming potential\n",
    "OBJs['min_eutrofication'] = ('EX_po4e_mkt', MIN) # minimize total eutrophication potential\n",
    "OBJs['max_bch_profit'] = ('PROFIT_bch', MAX) # maximize profit of biochemical industry\n",
    "OBJs['min_bch_energy'] = ('MX_bch2mkt_energy', MAX) # minimize energy usage of biochemical industry\n",
    "\n",
    "S = 'pdo1000, land<1, energy=EU'\n",
    "\n",
    "if 'energy=EU' in S:\n",
    "    add_RC_EU_energy(model)  # add EU energy mixing constraint\n",
    "\n",
    "\n"
   ]
  },
  {
   "cell_type": "code",
   "execution_count": 76,
   "metadata": {
    "collapsed": false
   },
   "outputs": [
    {
     "name": "stdout",
     "output_type": "stream",
     "text": [
      "min_global_warming\n",
      "min_eutrofication\n",
      "max_bch_profit\n",
      "min_bch_energy\n",
      "min_global_warming\n",
      "min_eutrofication\n",
      "max_bch_profit\n",
      "min_bch_energy\n",
      "min_global_warming\n",
      "min_eutrofication\n",
      "max_bch_profit\n",
      "min_bch_energy\n"
     ]
    }
   ],
   "source": [
    "# sensitivity analysis\n",
    "solutions = OrderedDict()\n",
    "        \n",
    "# Adding Bioprocesses to the model\n",
    "for pe in [0.8, 0.9, 1]: # looping through purification efficiencies\n",
    "\n",
    "    # remove the existing BioProcess Reactions \n",
    "    for rxn in model.reactions:\n",
    "        if 'BPR' in rxn:\n",
    "            model.remove_reaction(rxn)\n",
    "    \n",
    "    for key in performances.keys():\n",
    "        strains = performances[key]\n",
    "        #strains = biochemical.get_strains_metric(metric)\n",
    "\n",
    "        if key[1] == AEROBIC:\n",
    "            bioreactor = 'aeroFB'\n",
    "        elif key[1] == ANAEROBIC:\n",
    "            bioreactor = 'anaeFB'\n",
    "\n",
    "        if key[2] == r_glc:\n",
    "            substrate = 'glc'\n",
    "        elif key[2] == r_glyc:\n",
    "            substrate = 'glyc'\n",
    "\n",
    "        if key[3] == r_13PDO:\n",
    "            product = '1,3pdo'\n",
    "        if key[3] == r_3HPP:\n",
    "            product = '3hp'\n",
    "\n",
    "        for i, strain in enumerate(strains):\n",
    "            if strain['product_yield']>0 and strain['biomass_yield']>0:\n",
    "                if product == '3hp':\n",
    "                    biochemical.add_bioprocess_reaction(model, substrate, product, strain, bioreactor, 'ctrf', 'evapM', pe, neutralization='3hp_lime', process_energy_intensity=biochemical.Ei, compartment='bch')\n",
    "                else:    \n",
    "                    biochemical.add_bioprocess_reaction(model, substrate, product, strain, bioreactor, 'ctrf', 'evapM', pe, process_energy_intensity=biochemical.Ei, compartment='bch')\n",
    "\n",
    "    for O in OBJs:\n",
    "        print O\n",
    "        solutions[O, S, pe] = FBA(model, objective={OBJs[O][0]:1}, maximize=OBJs[O][1], constraints = Scenarios[S])\n",
    "\n",
    "\n"
   ]
  },
  {
   "cell_type": "code",
   "execution_count": 86,
   "metadata": {
    "collapsed": false,
    "scrolled": true
   },
   "outputs": [
    {
     "name": "stdout",
     "output_type": "stream",
     "text": [
      "min_global_warming  --  0.8 :  -2323.60566282\n",
      "min_eutrofication  --  0.8 :  -12.2658500699\n",
      "max_bch_profit  --  0.8 :  515.723598864\n",
      "min_bch_energy  --  0.8 :  -12570.6992197\n",
      "min_global_warming  --  0.9 :  -2065.42725584\n",
      "min_eutrofication  --  0.9 :  -10.9029778399\n",
      "max_bch_profit  --  0.9 :  659.678162366\n",
      "min_bch_energy  --  0.9 :  -11136.4427421\n",
      "min_global_warming  --  1 :  -1858.88453026\n",
      "min_eutrofication  --  1 :  -9.81268005595\n",
      "max_bch_profit  --  1 :  774.841813167\n",
      "min_bch_energy  --  1 :  -10022.7984679\n"
     ]
    }
   ],
   "source": [
    "for (O, S, k) in solutions:\n",
    "    print O, ' -- ', k,': ', solutions[O, S, k].fobj\n"
   ]
  },
  {
   "cell_type": "code",
   "execution_count": null,
   "metadata": {
    "collapsed": true
   },
   "outputs": [],
   "source": []
  }
 ],
 "metadata": {
  "kernelspec": {
   "display_name": "Python 2",
   "language": "python",
   "name": "python2"
  },
  "language_info": {
   "codemirror_mode": {
    "name": "ipython",
    "version": 2
   },
   "file_extension": ".py",
   "mimetype": "text/x-python",
   "name": "python",
   "nbconvert_exporter": "python",
   "pygments_lexer": "ipython2",
   "version": "2.7.6"
  }
 },
 "nbformat": 4,
 "nbformat_minor": 0
}
