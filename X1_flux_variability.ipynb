{
 "cells": [
  {
   "cell_type": "markdown",
   "metadata": {},
   "source": [
    "# Multiscale Analysis of the Sustainable Production of 1,3PDO and 3HP\n",
    "## X1 - Demonstration of None Existence of Alternative Optimum at Economy Scale"
   ]
  },
  {
   "cell_type": "code",
   "execution_count": 49,
   "metadata": {
    "collapsed": false,
    "scrolled": true
   },
   "outputs": [
    {
     "name": "stdout",
     "output_type": "stream",
     "text": [
      "Populating the interactive namespace from numpy and matplotlib\n"
     ]
    }
   ],
   "source": [
    "%reset -f\n",
    "%pylab inline\n",
    "\n",
    "import cPickle as pickle\n",
    "import pandas as pd"
   ]
  },
  {
   "cell_type": "markdown",
   "metadata": {
    "collapsed": false
   },
   "source": [
    "## Flux Variability Analysis of the Economy Scale Model\n",
    "\n",
    "#### Non-Existence of Alternative Optima\n",
    "- In a metabolic model, there are often many alternative optima\n",
    "    - this is because there are many loops and equivalent alternative pathways in the model\n",
    "- In the economy scale network model\n",
    "    - there are very few loops\n",
    "    - there are no equivalent alternative pathways\n",
    "        - each pathway has a set of distinct yield, titer, productivity, and energy cost\n",
    "    - as a result, **there are no alternative optima**\n",
    "\n",
    "#### To demonstrate this, we performed the following \"flux variability analysis\"\n",
    "- select Scenario 1A as the test scenario\n",
    "    - minimization of global warming potential\n",
    "    - 1000 kg PDO production, natrual gas heavy energy blend, 1 hectare land use\n",
    "- calculate the optimal objective function\n",
    "- bound the objective function flux to its optimal value\n",
    "- maximize and minimize every other flux in the model\n",
    "- we show that there is no variability in the fluxes when the objective flux is fixed at its optimum\n",
    "\n",
    "- FVA using other scenarios (not included here) produce the same no variability result"
   ]
  },
  {
   "cell_type": "code",
   "execution_count": 50,
   "metadata": {
    "collapsed": true
   },
   "outputs": [],
   "source": [
    "import cPickle as pickle\n",
    "\n",
    "from framed.analysis.simulation import FBA, pFBA\n",
    "from framed.analysis.variability import FVA, flux_envelope_3d\n",
    "from framed.hack.ratio_constraint import *\n",
    "import matplotlib.pyplot as plt\n",
    "\n",
    "from collections import OrderedDict\n",
    "\n",
    "import matplotlib.pyplot as plt\n",
    "\n",
    "import re\n",
    "\n",
    "from mpl_toolkits.axes_grid1 import host_subplot"
   ]
  },
  {
   "cell_type": "code",
   "execution_count": 51,
   "metadata": {
    "collapsed": true
   },
   "outputs": [],
   "source": [
    "model = pickle.load(open('models/mini_BChI_model.pickle','rb'))"
   ]
  },
  {
   "cell_type": "code",
   "execution_count": null,
   "metadata": {
    "collapsed": true
   },
   "outputs": [],
   "source": [
    "## Setting up scenario 1A\n",
    "\n",
    "### Objective Functions ###\n",
    "OBJs=OrderedDict()\n",
    "MAX = True\n",
    "MIN = False\n",
    "OBJs['min_global_warming'] = ('EX_co2e_mkt', MIN) # minimize total global warming potential\n",
    "\n",
    "### Flux Constraints ###\n",
    "FCs = OrderedDict()\n",
    "FCs['no import'] = {'DM_glyc_mkt':(0,0), 'DM_glc_mkt':(0,0), 'DM_energy_mkt':(0,0)}\n",
    "FCs['product demand: 3hp = 1000']= {'DM_3hp_mkt':(1000,1000), 'DM_1,3pdo_mkt':(0,0)}\n",
    "FCs['product demand: pdo = 1000']= {'DM_3hp_mkt':(0, 0), 'DM_1,3pdo_mkt':(1000,1000)}\n",
    "FCs['product demand: 3hp = 500, pdo=500']= {'DM_3hp_mkt':(500,500), 'DM_1,3pdo_mkt':(500,500)}\n",
    "\n",
    "FCs['positive profits']= {'PROFIT_res':(0,None), 'PROFIT_agr':(0,None), 'PROFIT_erg':(0,None), 'PROFIT_bch':(0,None)}\n",
    "FCs['no biodiesel'] = {'energy_from_biodiesel':(0,0)}\n",
    "FCs['land use < 1'] = {'EX_land_res':(-1,0)}\n",
    "FCs['land use < 5'] = {'EX_land_res':(-5,0)}\n",
    "FCs['co2 < 2000'] = {'EX_co2e_mkt':(0, 2000)}\n",
    "\n",
    "\n",
    "### Ratio Constraints ###\n",
    "\n",
    "# EU Energy Mix\n",
    "def add_RC_EU_energy(model):\n",
    "    add_ratio_constraint(model, 'energy_from_petroleum', 'MX_erg2mkt_energy', 0.25)\n",
    "    add_ratio_constraint(model, 'energy_from_natural_gas', 'MX_erg2mkt_energy', 0.7)\n",
    "    add_ratio_constraint(model, 'energy_from_coal', 'MX_erg2mkt_energy', 0.05)\n",
    "\n",
    "def remove_RC_EU_energy(model):\n",
    "    remove_ratio_constraint(model, 'ratio_energy_from_petroleum_MX_erg2mkt_energy')\n",
    "    remove_ratio_constraint(model, 'ratio_energy_from_natural_gas_MX_erg2mkt_energy')\n",
    "    remove_ratio_constraint(model, 'ratio_energy_from_coal_MX_erg2mkt_energy')\n",
    "\n",
    "Scenarios = OrderedDict()\n",
    "base_scenario = {k:v for d in (FCs['no import'], FCs['positive profits']) for k, v in d.iteritems()}\n",
    "Scenarios['pdo1000, land<1, energy=EU'] = {k:v for d in (base_scenario, FCs['product demand: pdo = 1000'], FCs['land use < 1'], FCs['no biodiesel']) for k, v in d.iteritems()}\n"
   ]
  },
  {
   "cell_type": "code",
   "execution_count": null,
   "metadata": {
    "collapsed": false,
    "scrolled": true
   },
   "outputs": [],
   "source": [
    "# Simulating Scenario 1A Flux Variability\n",
    "import copy\n",
    "\n",
    "O = 'min_global_warming'\n",
    "S = 'pdo1000, land<1, energy=EU'\n",
    "\n",
    "if 'energy=EU' in S:\n",
    "    add_RC_EU_energy(model)  # add EU energy mixing constraint\n",
    "\n",
    "solutions = FBA(model, objective={OBJs[O][0]:1}, maximize=OBJs[O][1], constraints = Scenarios[S])\n",
    "\n",
    "# fix objective flux to its optimal value\n",
    "cons = copy.copy(Scenarios[S])\n",
    "fobj = abs(solutions.fobj)\n",
    "cons[OBJs[O][0]] = (fobj ,fobj)\n",
    "reactions = model.reactions.keys()\n",
    "variability = OrderedDict([(r_id, [None, None]) for r_id in reactions])\n",
    "\n",
    "for rxn in reactions:\n",
    "#     minimize flux rxn\n",
    "    vfa_sol0 = FBA(model, {rxn: -1}, True, constraints=cons)\n",
    "    variability[rxn][0] = -vfa_sol0.fobj\n",
    "    \n",
    "#     maximize flux rxn\n",
    "    vfa_sol1 = FBA(model, {rxn: 1}, True, constraints=cons)\n",
    "    variability[rxn][1] = vfa_sol1.fobj\n"
   ]
  },
  {
   "cell_type": "markdown",
   "metadata": {},
   "source": [
    "### FVA shows that there is no variability in the fluxes when the objective function flux is fixed"
   ]
  },
  {
   "cell_type": "code",
   "execution_count": null,
   "metadata": {
    "collapsed": false
   },
   "outputs": [],
   "source": [
    "# print flux if the maximum value is different from the minimum value\n",
    "    # set 10^-11 as the boundary for numerical error\n",
    "for r in variability.keys():\n",
    "    if abs(variability[r][0] - variability[r][1]) > 10**-11:\n",
    "        print r, ': ', variability[r]"
   ]
  },
  {
   "cell_type": "code",
   "execution_count": null,
   "metadata": {
    "collapsed": false
   },
   "outputs": [],
   "source": [
    "# print all fluxes\n",
    "for r in variability.keys():\n",
    "    print r, ': ', variability[r]"
   ]
  },
  {
   "cell_type": "code",
   "execution_count": null,
   "metadata": {
    "collapsed": true
   },
   "outputs": [],
   "source": []
  },
  {
   "cell_type": "code",
   "execution_count": null,
   "metadata": {
    "collapsed": true
   },
   "outputs": [],
   "source": []
  }
 ],
 "metadata": {
  "kernelspec": {
   "display_name": "Python 2",
   "language": "python",
   "name": "python2"
  },
  "language_info": {
   "codemirror_mode": {
    "name": "ipython",
    "version": 2
   },
   "file_extension": ".py",
   "mimetype": "text/x-python",
   "name": "python",
   "nbconvert_exporter": "python",
   "pygments_lexer": "ipython2",
   "version": "2.7.6"
  }
 },
 "nbformat": 4,
 "nbformat_minor": 0
}
